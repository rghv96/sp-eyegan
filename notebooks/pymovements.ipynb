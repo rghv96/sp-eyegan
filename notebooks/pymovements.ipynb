{
 "cells": [
  {
   "cell_type": "code",
   "execution_count": 1,
   "id": "initial_id",
   "metadata": {
    "collapsed": true,
    "ExecuteTime": {
     "end_time": "2023-10-20T17:17:05.058789Z",
     "start_time": "2023-10-20T17:17:03.545931700Z"
    }
   },
   "outputs": [
    {
     "name": "stdout",
     "output_type": "stream",
     "text": [
      "%pylab is deprecated, use %matplotlib inline and import the required libraries.\n",
      "Populating the interactive namespace from numpy and matplotlib\n"
     ]
    }
   ],
   "source": [
    "import sys\n",
    "import math\n",
    "import pymovements as pm\n",
    "from tqdm import tqdm\n",
    "\n",
    "from dataclasses import dataclass\n",
    "from dataclasses import field\n",
    "from typing import Any\n",
    "\n",
    "from pymovements.dataset.dataset_definition import DatasetDefinition\n",
    "from pymovements.dataset.dataset_library import register_dataset\n",
    "from pymovements.gaze.experiment import Experiment\n",
    "%pylab inline\n",
    "%load_ext autoreload\n",
    "%autoreload 2"
   ]
  },
  {
   "cell_type": "markdown",
   "source": [],
   "metadata": {
    "collapsed": false
   },
   "id": "3c32a837f3f97320"
  },
  {
   "cell_type": "markdown",
   "source": [
    "### Define a pymovements experiment to load in the data using pymovements"
   ],
   "metadata": {
    "collapsed": false
   },
   "id": "e10db9ef4d123891"
  },
  {
   "cell_type": "code",
   "execution_count": 5,
   "outputs": [
    {
     "ename": "TypeError",
     "evalue": "DatasetDefinition.__init__() got an unexpected keyword argument 'time_column'",
     "output_type": "error",
     "traceback": [
      "\u001B[1;31m---------------------------------------------------------------------------\u001B[0m",
      "\u001B[1;31mTypeError\u001B[0m                                 Traceback (most recent call last)",
      "Cell \u001B[1;32mIn[5], line 40\u001B[0m\n\u001B[0;32m     37\u001B[0m pixel_columns \u001B[38;5;241m=\u001B[39m [\u001B[38;5;124m'\u001B[39m\u001B[38;5;124mx_eye\u001B[39m\u001B[38;5;124m'\u001B[39m, \u001B[38;5;124m'\u001B[39m\u001B[38;5;124my_eye\u001B[39m\u001B[38;5;124m'\u001B[39m]\n\u001B[0;32m     38\u001B[0m position_columns \u001B[38;5;241m=\u001B[39m [\u001B[38;5;124m'\u001B[39m\u001B[38;5;124mgaze_long\u001B[39m\u001B[38;5;124m'\u001B[39m, \u001B[38;5;124m'\u001B[39m\u001B[38;5;124mgaze_lat\u001B[39m\u001B[38;5;124m'\u001B[39m]\n\u001B[1;32m---> 40\u001B[0m dataset_definition \u001B[38;5;241m=\u001B[39m \u001B[43mpm\u001B[49m\u001B[38;5;241;43m.\u001B[39;49m\u001B[43mDatasetDefinition\u001B[49m\u001B[43m(\u001B[49m\n\u001B[0;32m     41\u001B[0m \u001B[43m    \u001B[49m\u001B[43mexperiment\u001B[49m\u001B[38;5;241;43m=\u001B[39;49m\u001B[43mexperiment\u001B[49m\u001B[43m,\u001B[49m\n\u001B[0;32m     42\u001B[0m \u001B[43m    \u001B[49m\u001B[43mfilename_format\u001B[49m\u001B[38;5;241;43m=\u001B[39;49m\u001B[43mfilename_format\u001B[49m\u001B[43m,\u001B[49m\n\u001B[0;32m     43\u001B[0m \u001B[43m    \u001B[49m\u001B[43mfilename_format_dtypes\u001B[49m\u001B[38;5;241;43m=\u001B[39;49m\u001B[43mfilename_format_dtypes\u001B[49m\u001B[43m,\u001B[49m\n\u001B[0;32m     44\u001B[0m \u001B[43m    \u001B[49m\u001B[43mcustom_read_kwargs\u001B[49m\u001B[38;5;241;43m=\u001B[39;49m\u001B[43mcustom_read_kwargs\u001B[49m\u001B[43m,\u001B[49m\n\u001B[0;32m     45\u001B[0m \u001B[43m    \u001B[49m\u001B[43mtime_column\u001B[49m\u001B[38;5;241;43m=\u001B[39;49m\u001B[43mtime_column\u001B[49m\u001B[43m,\u001B[49m\n\u001B[0;32m     46\u001B[0m \u001B[43m    \u001B[49m\u001B[43mpixel_columns\u001B[49m\u001B[38;5;241;43m=\u001B[39;49m\u001B[43mpixel_columns\u001B[49m\u001B[43m,\u001B[49m\n\u001B[0;32m     47\u001B[0m \u001B[43m    \u001B[49m\u001B[43mposition_columns\u001B[49m\u001B[38;5;241;43m=\u001B[39;49m\u001B[43mposition_columns\u001B[49m\u001B[43m,\u001B[49m\n\u001B[0;32m     48\u001B[0m \u001B[43m)\u001B[49m\n\u001B[0;32m     50\u001B[0m dataset_paths \u001B[38;5;241m=\u001B[39m pm\u001B[38;5;241m.\u001B[39mDatasetPaths(\n\u001B[0;32m     51\u001B[0m     root\u001B[38;5;241m=\u001B[39m\u001B[38;5;124m'\u001B[39m\u001B[38;5;124mC:\u001B[39m\u001B[38;5;130;01m\\\\\u001B[39;00m\u001B[38;5;124mUsers\u001B[39m\u001B[38;5;124m\\\u001B[39m\u001B[38;5;124mRaghav Sethi\u001B[39m\u001B[38;5;124m\\\u001B[39m\u001B[38;5;124mRepos\u001B[39m\u001B[38;5;124m\\\u001B[39m\u001B[38;5;124msp-eyegan\u001B[39m\u001B[38;5;124m\\\u001B[39m\u001B[38;5;124mdata\u001B[39m\u001B[38;5;124m\\\u001B[39m\u001B[38;5;124mEHTaskDataset\u001B[39m\u001B[38;5;124m'\u001B[39m,\n\u001B[0;32m     52\u001B[0m     raw\u001B[38;5;241m=\u001B[39m\u001B[38;5;124m'\u001B[39m\u001B[38;5;124mRawData/\u001B[39m\u001B[38;5;124m'\u001B[39m, \n\u001B[0;32m     53\u001B[0m )\n",
      "\u001B[1;31mTypeError\u001B[0m: DatasetDefinition.__init__() got an unexpected keyword argument 'time_column'"
     ]
    }
   ],
   "source": [
    "# define experiment\n",
    "\n",
    "# distance varies between participants and sessions\n",
    "# chose 70 as an arbitrary number\n",
    "experiment = pm.gaze.Experiment(\n",
    "    screen_width_px=1080,\n",
    "    screen_height_px=1200,\n",
    "    screen_width_cm=59.76,\n",
    "    screen_height_cm=33.615,\n",
    "    distance_cm=70,\n",
    "    origin='lower left',\n",
    "    sampling_rate=100,\n",
    ")\n",
    "\n",
    "filename_format = r'User_(?P<subject_id>[0-9]+)_Video_(?P<video_id>[0-9]+)_Task_(?P<task_id>[0-9]+).txt'\n",
    "\n",
    "filename_format_dtypes = {\n",
    "    'subject_id': int,\n",
    "    'video_id': int,\n",
    "    'task_id': int,\n",
    "}\n",
    "\n",
    "\n",
    "custom_read_kwargs = {\n",
    "    'separator': '\\t',\n",
    "    'has_header': False,\n",
    "    'new_columns': ['time', 'frame',\n",
    "                    'head_long', 'head_lat',\n",
    "                    'x_eye', 'y_eye',\n",
    "                    'gaze_long', 'gaze_lat',\n",
    "                    ],\n",
    "}\n",
    "\n",
    "trial_columns = ['subject_id', 'video_id', 'task_id']\n",
    "\n",
    "time_column = 'time'\n",
    "pixel_columns = ['x_eye', 'y_eye']\n",
    "position_columns = ['gaze_long', 'gaze_lat']\n",
    "\n",
    "dataset_definition = pm.DatasetDefinition(\n",
    "    experiment=experiment,\n",
    "    filename_format=filename_format,\n",
    "    filename_format_dtypes=filename_format_dtypes,\n",
    "    custom_read_kwargs=custom_read_kwargs,\n",
    "    time_column=time_column,\n",
    "    pixel_columns=pixel_columns,\n",
    "    position_columns=position_columns,\n",
    ")\n",
    "\n",
    "dataset_paths = pm.DatasetPaths(\n",
    "    root='C:\\\\Users\\Raghav Sethi\\Repos\\sp-eyegan\\data\\EHTaskDataset',\n",
    "    raw='RawData/', \n",
    ")"
   ],
   "metadata": {
    "collapsed": false,
    "ExecuteTime": {
     "end_time": "2023-10-20T17:20:26.492013700Z",
     "start_time": "2023-10-20T17:20:25.999127Z"
    }
   },
   "id": "47e279afa4fd754a"
  },
  {
   "cell_type": "code",
   "execution_count": null,
   "outputs": [],
   "source": [],
   "metadata": {
    "collapsed": false
   },
   "id": "21a2999a3971308c"
  }
 ],
 "metadata": {
  "kernelspec": {
   "display_name": "Python 3",
   "language": "python",
   "name": "python3"
  },
  "language_info": {
   "codemirror_mode": {
    "name": "ipython",
    "version": 2
   },
   "file_extension": ".py",
   "mimetype": "text/x-python",
   "name": "python",
   "nbconvert_exporter": "python",
   "pygments_lexer": "ipython2",
   "version": "2.7.6"
  }
 },
 "nbformat": 4,
 "nbformat_minor": 5
}
